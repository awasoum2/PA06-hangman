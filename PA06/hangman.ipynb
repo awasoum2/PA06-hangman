{
 "cells": [
  {
   "cell_type": "markdown",
   "metadata": {},
   "source": [
    "# Hangman notes\n",
    "Your hangman homework has a number of different ways it can be completed. If you are having trouble completing it, you can use this notebook to guide you to a solution.\n",
    "\n",
    "## Describe the Algorithm\n",
    "Usually when we start writing a program we decide how we want the program to work. This is called the algorithm underlying the program.\n",
    "\n",
    "For hangman it might be something like this.\n",
    "\n",
    "1. Ask if they want to play a game, if not then return\n",
    "2. Generate a random word (w)\n",
    "   Also initialize the counter variable which keeps track of their remaining guesses\n",
    "   and initialize a variable to keep track of the letters they've guessed already.\n",
    "3. Ask the user for a letter and add it to the list of guessed letters\n",
    "4. If the letter has already been guessed or is not in the word, add one to the counter\n",
    "   and print a message saying they didn't guess a new letter\n",
    "5. Otherwise, congratulate them and print the letters in the word, but only showing the\n",
    "   letters they have guessed.\n",
    "6. If they have guessed all the letters or they have used up all of their guesses end the game\n",
    "7. Otherwise continue the game\n",
    "\n",
    "# Pseudocode\n",
    "The next step is to write the code as a combination of Python and English where the Python\n",
    "captures the \"top-level\" parts of the algorithm.\n",
    "\n",
    "Making this more Python-like we can rewrite it as:\n",
    "```python\n",
    "def play_hangman():\n",
    "    want_to_play = True\n",
    "\n",
    "\n",
    "    while (want_to_play):\n",
    "        guessed_letters = []\n",
    "        guesses_left = 6\n",
    "        word = \"generate a random word\"\n",
    "        letter = \"ask the user for a letter\"\n",
    "        done = False\n",
    "        while not done:\n",
    "            if letter in guessed_letters:\n",
    "                \"subtract one from guesses_left\"\n",
    "                \"and tell them they already guessed that letter\"\n",
    "            elif letter not in word:\n",
    "                \"add letter to guessed letters\"\n",
    "                \"tell user the letter is not in the word\"\n",
    "                \"subtract one from the guesses_left\"\n",
    "            else:\n",
    "                \"add letter to guessed letters\"\n",
    "                \"tell user the letter is in the word\"\n",
    "            if \"all the letters in the word have been guessed\":\n",
    "                \"set done to be true and tell the user they won!\"\n",
    "            elif \"the number of guesses left is zero\":\n",
    "                \"set done to be true and tell the user they lost!\"\n",
    "            else:\n",
    "                \"print the word with a dash for each letter not in guessed_letters\"\n",
    "                letter = \"ask the user for another letter\"\n",
    "        want_to_play = \"ask the user if they want to play another game...\"\n",
    "    \n",
    "```   \n",
    "Some of the pseudo code can be converted directly into python code\n",
    "Other pseudo code should be turned into functions, e.g.\n"
   ]
  },
  {
   "cell_type": "markdown",
   "metadata": {},
   "source": [
    "## Testing\n",
    "Try to trace this program to see if the logic is correct\n",
    "Play a few games and see if we have forgotten anything..."
   ]
  },
  {
   "cell_type": "markdown",
   "metadata": {},
   "source": [
    "## Topdown development\n",
    "Now that we have a highlevel view of the program and have tested it, lets start writing the lowerlevel code.\n",
    "\n",
    "\"generate a random word\" could be a function call \n",
    "```python\n",
    "  word = generate_random_word()\n",
    "```\n",
    "and then you'll need to define the generate_random_word function. The easiest approach is to\n",
    "import the random module and use the random.choice(list) function which returns a random element\n",
    "from the list. Write the code for the generate_random_word function where you just write a list of words, e.g. \n",
    "``` python\n",
    "words = \"dog cat mouse deer snake\".split()\n",
    "```\n",
    "Try writing the generate_random_word function and testing it...\n",
    "Even better is to download a list of English words, read them (as we did for Romeo and Juliet),\n",
    "and then use the random.choice function of the random module to pick a random word from that list."
   ]
  },
  {
   "cell_type": "code",
   "execution_count": 1,
   "metadata": {},
   "outputs": [
    {
     "name": "stdout",
     "output_type": "stream",
     "text": [
      "deer\n"
     ]
    }
   ],
   "source": [
    "# your code goes here\n",
    "import random\n",
    "def generate_random_word():\n",
    "    Words=\"dog cat mouse deer snake\".split()\n",
    "    return random.choice(Words)\n",
    "print(generate_random_word())"
   ]
  },
  {
   "cell_type": "markdown",
   "metadata": {},
   "source": [
    "\"print the word with a dash for each letter not in guessed_letters\"\n",
    "\n",
    "should also be a function, \n",
    "```python\n",
    "print_word(word,guessed_letter)\n",
    "```\n",
    "which prints each letter of the word but prints a dash if the letter has not been guessed.\n",
    "Try writing that function here and testing it."
   ]
  },
  {
   "cell_type": "code",
   "execution_count": 2,
   "metadata": {},
   "outputs": [],
   "source": [
    "def print_word(word,guessed_letters):\n",
    "    remains=[]\n",
    "    for x in word:\n",
    "        if x in guessed_letters:\n",
    "            remains.append(x) \n",
    "        else:\n",
    "            remains.append('-')\n",
    "    print(remains)\n",
    "    print()\n"
   ]
  },
  {
   "cell_type": "code",
   "execution_count": 2,
   "metadata": {},
   "outputs": [
    {
     "name": "stdout",
     "output_type": "stream",
     "text": [
      "['t', 'e', '-', 't']\n",
      "\n"
     ]
    }
   ],
   "source": [
    "print_word(\"test\",['i','o','e','t'])\n"
   ]
  },
  {
   "cell_type": "code",
   "execution_count": 14,
   "metadata": {},
   "outputs": [
    {
     "data": {
      "text/plain": [
       "True"
      ]
     },
     "execution_count": 14,
     "metadata": {},
     "output_type": "execute_result"
    }
   ],
   "source": [
    "#\"all the letters in the word have been guessed\"\n",
    "guessed_letters=['p','y','t','h','o','n','e']\n",
    "word='python'\n",
    "len([x for x in guessed_letters if x in word])==len(word)"
   ]
  },
  {
   "cell_type": "code",
   "execution_count": null,
   "metadata": {},
   "outputs": [],
   "source": [
    "#list of alphabet\n",
    "alphabet=\"a b c d e f g h i j k l m n o p q r s t u v w x y z\".split()\n",
    "print(alphabet)"
   ]
  },
  {
   "cell_type": "code",
   "execution_count": null,
   "metadata": {},
   "outputs": [],
   "source": [
    "#letter input\n",
    "letter = input(\"please guess a letter\")\n",
    "# while len(letter)!=1:\n",
    "#      letter=input(\"please input correctly one letter!\")"
   ]
  },
  {
   "cell_type": "code",
   "execution_count": null,
   "metadata": {},
   "outputs": [],
   "source": [
    "letter = input(\"please guess a letter\")\n",
    "word='hi'\n",
    "if letter not in word:\n",
    "    print('bye')\n",
    "else:\n",
    "    print('it is there')"
   ]
  },
  {
   "cell_type": "markdown",
   "metadata": {},
   "source": [
    "Putting it all together\n",
    "Now try to write the entire play_hangman game with all these pieces.\n"
   ]
  },
  {
   "cell_type": "code",
   "execution_count": 3,
   "metadata": {},
   "outputs": [],
   "source": [
    "def play_hangman():\n",
    "    want_to_play = True\n",
    "\n",
    "\n",
    "    while (want_to_play):\n",
    "        guessed_letters = []\n",
    "        word=generate_random_word()\n",
    "        print_word(word,guessed_letters)\n",
    "        guesses_left = len(word)\n",
    "        letter = input(\"please guess a letter\") #asks user for a letter\n",
    "#         while len(letter)!=1:\n",
    "#             letter=input(\"please input correctly one letter!\")\n",
    "#         alphabet=\"a b c d e f g h i j k l m n o p q r s t u v w x y z\".split()\n",
    "        done = False\n",
    "        while not done:\n",
    "            if letter in guessed_letters:\n",
    "                guesses_left-=1 #subtract one from guesses_left\n",
    "                print(\"you've already guessed this letter\")\n",
    "                \n",
    "            elif letter not in word:\n",
    "                guessed_letters.append(letter) #add letter to guessed letters\n",
    "                print('the letter is not in the word') #\"tell user the letter is not in the word\"\n",
    "                guesses_left-=1 #\"subtract one from the guesses_left\"\n",
    "            else:\n",
    "                guessed_letters.append(letter) #\"add letter to guessed letters\"\n",
    "                print('the letter is in the word') #\"tell user the letter is in the word\"\n",
    "            \n",
    "            print(\"you have\",guesses_left,\"guesses left\")\n",
    "            \n",
    "            if len([x for x in guessed_letters if x in word])==len(word):#\"all the letters in the word have been guessed\"\n",
    "                done=True #\"set done to be true and tell the user they won!\"\n",
    "                print('you win!')\n",
    "            elif guesses_left==0:\n",
    "                done=True\n",
    "                print('you lost')#\"set done to be true and tell the user they lost!\"\n",
    "            else:\n",
    "                print_word(word,guessed_letters)\n",
    "                letter = input(\"please guess a letter\") #asks user for a letter\n",
    "        want_to_play = input(\"do you want to play another game? y/n\")\n",
    "        if want_to_play=='y':\n",
    "            want_to_play=True\n",
    "        if want_to_play=='n':\n",
    "            want_to_play=False\n"
   ]
  },
  {
   "cell_type": "code",
   "execution_count": 4,
   "metadata": {},
   "outputs": [
    {
     "name": "stdout",
     "output_type": "stream",
     "text": [
      "['-', '-', '-', '-', '-']\n",
      "\n"
     ]
    },
    {
     "name": "stdin",
     "output_type": "stream",
     "text": [
      "please guess a letter y\n"
     ]
    },
    {
     "name": "stdout",
     "output_type": "stream",
     "text": [
      "the letter is not in the word\n",
      "you have 4 guesses left\n",
      "['-', '-', '-', '-', '-']\n",
      "\n"
     ]
    },
    {
     "name": "stdin",
     "output_type": "stream",
     "text": [
      "please guess a letter l\n"
     ]
    },
    {
     "name": "stdout",
     "output_type": "stream",
     "text": [
      "the letter is not in the word\n",
      "you have 3 guesses left\n",
      "['-', '-', '-', '-', '-']\n",
      "\n"
     ]
    },
    {
     "name": "stdin",
     "output_type": "stream",
     "text": [
      "please guess a letter e\n"
     ]
    },
    {
     "name": "stdout",
     "output_type": "stream",
     "text": [
      "the letter is in the word\n",
      "you have 3 guesses left\n",
      "['-', '-', '-', '-', 'e']\n",
      "\n"
     ]
    },
    {
     "name": "stdin",
     "output_type": "stream",
     "text": [
      "please guess a letter o\n"
     ]
    },
    {
     "name": "stdout",
     "output_type": "stream",
     "text": [
      "the letter is in the word\n",
      "you have 3 guesses left\n",
      "['-', 'o', '-', '-', 'e']\n",
      "\n"
     ]
    },
    {
     "name": "stdin",
     "output_type": "stream",
     "text": [
      "please guess a letter k\n"
     ]
    },
    {
     "name": "stdout",
     "output_type": "stream",
     "text": [
      "the letter is not in the word\n",
      "you have 2 guesses left\n",
      "['-', 'o', '-', '-', 'e']\n",
      "\n"
     ]
    },
    {
     "name": "stdin",
     "output_type": "stream",
     "text": [
      "please guess a letter m\n"
     ]
    },
    {
     "name": "stdout",
     "output_type": "stream",
     "text": [
      "the letter is in the word\n",
      "you have 2 guesses left\n",
      "['m', 'o', '-', '-', 'e']\n",
      "\n"
     ]
    },
    {
     "name": "stdin",
     "output_type": "stream",
     "text": [
      "please guess a letter u\n"
     ]
    },
    {
     "name": "stdout",
     "output_type": "stream",
     "text": [
      "the letter is in the word\n",
      "you have 2 guesses left\n",
      "['m', 'o', 'u', '-', 'e']\n",
      "\n"
     ]
    },
    {
     "name": "stdin",
     "output_type": "stream",
     "text": [
      "please guess a letter s\n"
     ]
    },
    {
     "name": "stdout",
     "output_type": "stream",
     "text": [
      "the letter is in the word\n",
      "you have 2 guesses left\n",
      "you win!\n"
     ]
    },
    {
     "name": "stdin",
     "output_type": "stream",
     "text": [
      "do you want to play another game? y/n n\n"
     ]
    }
   ],
   "source": [
    "play_hangman()"
   ]
  },
  {
   "cell_type": "code",
   "execution_count": null,
   "metadata": {},
   "outputs": [],
   "source": []
  }
 ],
 "metadata": {
  "kernelspec": {
   "display_name": "Python 3",
   "language": "python",
   "name": "python3"
  },
  "language_info": {
   "codemirror_mode": {
    "name": "ipython",
    "version": 3
   },
   "file_extension": ".py",
   "mimetype": "text/x-python",
   "name": "python",
   "nbconvert_exporter": "python",
   "pygments_lexer": "ipython3",
   "version": "3.7.6"
  }
 },
 "nbformat": 4,
 "nbformat_minor": 4
}
